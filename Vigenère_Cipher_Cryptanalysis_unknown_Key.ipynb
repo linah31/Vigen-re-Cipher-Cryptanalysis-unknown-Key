{
  "nbformat": 4,
  "nbformat_minor": 0,
  "metadata": {
    "colab": {
      "provenance": [],
      "authorship_tag": "ABX9TyNRiUnBcdf3QFiLhcSdL/VP",
      "include_colab_link": true
    },
    "kernelspec": {
      "name": "python3",
      "display_name": "Python 3"
    },
    "language_info": {
      "name": "python"
    }
  },
  "cells": [
    {
      "cell_type": "markdown",
      "metadata": {
        "id": "view-in-github",
        "colab_type": "text"
      },
      "source": [
        "<a href=\"https://colab.research.google.com/github/linah31/Vigen-re-Cipher-Cryptanalysis-unknown-Key/blob/main/Vigen%C3%A8re_Cipher_Cryptanalysis_unknown_Key.ipynb\" target=\"_parent\"><img src=\"https://colab.research.google.com/assets/colab-badge.svg\" alt=\"Open In Colab\"/></a>"
      ]
    },
    {
      "cell_type": "code",
      "source": [
        "import string\n",
        "import sys\n",
        "# Frequency of letters in English\n",
        "f = {\n",
        "    \"A\": .08167, \"B\": .01492, \"C\": .02782, \"D\": .04253, \"E\": .12702,\n",
        "    \"F\": .02228, \"G\": .02015, \"H\": .06094, \"I\": .06966, \"J\": .00153,\n",
        "    \"K\": .00772, \"L\": .04025, \"M\": .02406, \"N\": .06749, \"O\": .07507,\n",
        "    \"P\": .01929, \"Q\": .00095, \"R\": .05987, \"S\": .06327, \"T\": .09056,\n",
        "    \"U\": .02758, \"V\": .00978, \"W\": .02360, \"X\": .00150, \"Y\": .01974,\n",
        "    \"Z\": .00074\n",
        "}\n",
        "def caesar_decrypt(ciphertext, shift):\n",
        "    decrypted = \"\"\n",
        "    for char in ciphertext:\n",
        "        if char.upper() in f:  # Check if the character is a letter\n",
        "            shifted = ord(char) - shift\n",
        "            if char.isupper():\n",
        "                if shifted < ord('A'):\n",
        "                    shifted += 26\n",
        "            elif char.islower():\n",
        "                if shifted < ord('a'):\n",
        "                    shifted += 26\n",
        "            decrypted += chr(shifted)\n",
        "        else:\n",
        "            decrypted += char\n",
        "    return decrypted\n",
        "\n",
        "def find_best_shifts(ciphertext):\n",
        "    # Split the ciphertext into 8 groups\n",
        "    groups = ['' for _ in range(8)]\n",
        "    for i, char in enumerate(ciphertext):\n",
        "        groups[i % 8] += char\n",
        "\n",
        "    best_shifts = []\n",
        "    # Perform frequency analysis on each group to find the best shift\n",
        "    for group in groups:\n",
        "        best_shift = 0\n",
        "        best_diff = float('inf')\n",
        "        for shift in range(26):\n",
        "            shifted_text = caesar_decrypt(group, shift)\n",
        "            actual_freq = {letter: shifted_text.upper().count(letter) / len(shifted_text) for letter in string.ascii_uppercase}\n",
        "            diff = sum((actual_freq.get(letter, 0) - f[letter])**2 for letter in string.ascii_uppercase)\n",
        "            if diff < best_diff:\n",
        "                best_diff = diff\n",
        "                best_shift = shift\n",
        "        best_shifts.append(best_shift)\n",
        "    return best_shifts\n",
        "\n",
        "def decrypt_vigenere(ciphertext, shifts):\n",
        "    plaintext = \"\"\n",
        "    for i, char in enumerate(ciphertext):\n",
        "        shift = shifts[i % len(shifts)]\n",
        "        if char.isalpha():  # Apply decryption only to letters\n",
        "            plaintext += caesar_decrypt(char, shift)\n",
        "        else:\n",
        "            plaintext += char\n",
        "    return plaintext\n",
        "\n",
        "ciphertext=\"ELFRQVOUPIUGQHGQELIWOTYEWMOUPWKULXUVADYKLPBZHWIIYHUOHCCBZXISISLWFXIWONSWWIOHAFMWFRUSNOKTEISGKTMPLOSSWUDAHMUVWFQMCEORRWXOPEOQAGXPTWNWJVYNEIOGLWKSTRHCBZSAEMNSOWBDPHJBRAOBYENHKJOTLXFHKLRMTWTIAKVWHAJHPWNBSIPRKJOLZRBZZVYVYCLSNSLIEWPGKXDMYIOHAJSVRGPBRWBALXJCJKRIWJXOULRZZYHVLAZMDMOPQLSAAVPALLVGESMRUGEICIPIPGPGZYSSHWWMYXCMSSVBPV\"\n",
        "#ciphertext = \"MPLGXLORUSVOMMSIHVESRVYKVSVSPOSRFFECPPRTVBZBLFSLKJCZYPRUOGFFMBRVHIFIZOMKKJCZGVXSSUYSHUIPCVJSXRFLHGZFLAJZFTKMHBQLGUKFTCICOMFBZHRURJWTBJYCHSFOWHVFOEWFTBKYHXZHAWIIWMDAATQPCVJVTSPJSFKVTUKJKPERXYJLZUFHXSPPCVJVTSPJSFROVVAFBUYSKVSWCGRQHAXFBIFILLLROOUCAZSDOOPGMHVKZFDSGAWZQBEBHAXVZMPCNOSNZPEUMOMJFPRRLOECZCVPNAJVOSECMALVCCJHTJPVGJEMHBVGOUYTHYJRHFYOLCSLQIJOYLHPCVIFXDEIRUYCNNLKVFICTKQRMXZBWFIRMPLFALEIHTXFHDAVOSPGMPPCGIRZEFIWCMCCPALVAFMSGBRKCZFIKZECJBKWHU\"\n",
        "#ciphertext = sys.argv[1]\n",
        "key_length = 8\n",
        "shifts = find_best_shifts(ciphertext)\n",
        "key = ''.join(chr(65 + shift) for shift in shifts)\n",
        "plaintext = decrypt_vigenere(ciphertext, shifts)\n",
        "print(\"Decrypted text:\", plaintext)\n",
        "print(\"Key:\", key)\n",
        "print(shifts)\n",
        "\n"
      ],
      "metadata": {
        "colab": {
          "base_uri": "https://localhost:8080/"
        },
        "id": "-dYumYXdamp7",
        "outputId": "911696ab-d4ea-40d3-d0aa-05039c602fb1"
      },
      "execution_count": 3,
      "outputs": [
        {
          "output_type": "stream",
          "name": "stdout",
          "text": [
            "Decrypted text: THEDUDEMEETSUPWITHHISBOWLINGTEAMATTHELOCALALLEYANDTALKSTOTHEMABOUTHISVIOLENTENCOUNTERWALTERSOBCHAKREACTSWITHANGERANDVENGEANCEONHISMINDOFTENSPEAKINGOFHISTIMESERVEDINVIETNAMTORELATETOTHEISSUESLOWWITTEDTHEODOREDONALDDONNYKERABATSOSOFTENENTERINGCONVERSATIONSHALFWAYTHROUGHPIPESINBUTISPROMPTLYTOLDYOUAREOUTOFYOURELEMENTBYWALTER\n",
            "Key: LEBOWSKI\n",
            "[11, 4, 1, 14, 22, 18, 10, 8]\n"
          ]
        }
      ]
    }
  ]
}